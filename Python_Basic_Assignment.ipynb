{
  "nbformat": 4,
  "nbformat_minor": 0,
  "metadata": {
    "colab": {
      "provenance": []
    },
    "kernelspec": {
      "name": "python3",
      "display_name": "Python 3"
    },
    "language_info": {
      "name": "python"
    }
  },
  "cells": [
    {
      "cell_type": "code",
      "execution_count": null,
      "metadata": {
        "id": "EDwOZZlmOcc7"
      },
      "outputs": [],
      "source": [
        "Q.1) What is Python, and why is it popular?"
      ]
    },
    {
      "cell_type": "markdown",
      "source": [
        "==)) Python is a high-level, general-purpose programming language. It's design emphasizes code readability with the use of significant indentation.\n",
        "\n",
        "**Why python is so popular?***\n",
        "\n",
        "\n",
        "a)**It's easier to learn***= the python language is designed to be intuitive and readable, which makes it easier learn than most programming languages.\n",
        "\n",
        "\n",
        "b)**It's versatile***= python is a general-purpose language, which means that it can be used across a wide variety of domains and use cases.\n",
        "\n",
        "\n",
        "c)**It has an awesome community***= the python community is diverse and welcoming to all types of people.\n",
        "\n",
        "\n",
        "d)**It's excellent for Data science & machine learning***= python is the language of choice for many data scientists(and analysts, engineers, researchers, and so on) because of its amazing data science libraries, such as pandas, NumPy, and scikit-learn."
      ],
      "metadata": {
        "id": "U-eanAvIRS_5"
      }
    },
    {
      "cell_type": "code",
      "source": [
        "Q.2) What is an interpreter in Python?"
      ],
      "metadata": {
        "id": "rRih3_jsO6Vf"
      },
      "execution_count": null,
      "outputs": []
    },
    {
      "cell_type": "markdown",
      "source": [
        "==)) In Python, an interpreter is a program that reads and executes Python code line by line, translating it into machine-readable instructions."
      ],
      "metadata": {
        "id": "B-OJOU6OTlf4"
      }
    },
    {
      "cell_type": "code",
      "source": [
        "Q.3) What are pre-defined keywords in Python?"
      ],
      "metadata": {
        "id": "SeCmR9jEO6Ov"
      },
      "execution_count": null,
      "outputs": []
    },
    {
      "cell_type": "markdown",
      "source": [
        "==)) Keywords in Python are predefined reserved words with special meanings so the interpreter can understand them. They perform specific tasks in Python programming and are a part of its syntax."
      ],
      "metadata": {
        "id": "Osw2tT7qUDPH"
      }
    },
    {
      "cell_type": "code",
      "source": [
        "Q.4) Can keywords be used as variable names?"
      ],
      "metadata": {
        "id": "45DMwUESO6Ko"
      },
      "execution_count": null,
      "outputs": []
    },
    {
      "cell_type": "markdown",
      "source": [
        "==)) No, you cannot use keywords as variable names in most programming languages because keywords are reserved words with predefined meanings that the interpreter or compiler uses to understand the structure of the code."
      ],
      "metadata": {
        "id": "_hMGnKJ6Uk2c"
      }
    },
    {
      "cell_type": "code",
      "source": [
        "Q.5) What is mutability in Python?"
      ],
      "metadata": {
        "id": "e3OZ1CHcO57X"
      },
      "execution_count": null,
      "outputs": []
    },
    {
      "cell_type": "markdown",
      "source": [
        "==)) In Python, mutability refers to an object's ability to be changed or modified after it's created, with mutable objects allowing in-place modifications, while immutable objects require creating new objects for any changes. Explanation:\n",
        "\n",
        "--**Lists***= You can add, remove, or modify elements within a list after it's created.\n",
        "\n",
        "--**Integers,Floats,Strings,Tuples,Booleans***= Once created, these cannot be changed, attempting to modify them will create a new object."
      ],
      "metadata": {
        "id": "Frzt_tWwVOG8"
      }
    },
    {
      "cell_type": "code",
      "source": [
        "Q.6) Why are lists mutable, but tuples are immutable?"
      ],
      "metadata": {
        "id": "0IjNdD6fO5vv"
      },
      "execution_count": null,
      "outputs": []
    },
    {
      "cell_type": "markdown",
      "source": [
        "==)) **Lists***= Designed for collections of items that may need modification during program execution. Their mutability supports operations like adding, removing, or changing elements, making them suitable for dynamic data sets.\n",
        "\n",
        "**Tuples***= Intended for fixed collections of items that should remain constant. Their immutability ensures data integrity, making them ideal for representing fixed configurations or heterogeneous data that should not be altered.\n",
        "\n",
        "So lists are mutable and tuples are immutable."
      ],
      "metadata": {
        "id": "tqDW_kmZWj-4"
      }
    },
    {
      "cell_type": "code",
      "source": [
        "Q.7) What is the difference between \"==\" and \"is\" operators in Python?"
      ],
      "metadata": {
        "id": "QiXWkoVSP5Ub"
      },
      "execution_count": null,
      "outputs": []
    },
    {
      "cell_type": "markdown",
      "source": [
        "==)) In Python, == checks for value equality (if two objects have the same value), while is checks for object identity(if two variables point to the same object in memory).\n",
        "\n",
        "* == (Equality Operator):\n",
        "\n",
        "  compares the values of two objects.\n",
        "\n",
        "  Returns True if the values are the same, False otherwise.\n",
        "\n",
        "  Example: 1 == 1 is True, and 1 == 2 is False.\n",
        "\n",
        "  Example: [1,2]; == [1,2] is True (because they have the same values).\n",
        "\n",
        "\n",
        "* is (Identity Operator):\n",
        "\n",
        "  Checks if two variables refer to the same object in memory.\n",
        "  \n",
        "  Returns True if the variables point to the same object, False otherwise.\n",
        "\n",
        "  Example: a = [1,2],b = a,a is b is True (because a and b point to the same list object).\n",
        "\n",
        "  Example: a = [1,2];b = [1,2]; a is b is False (because they are different objects with the same values)."
      ],
      "metadata": {
        "id": "tV7yAsekZvz9"
      }
    },
    {
      "cell_type": "code",
      "source": [
        "Q.8) What are logical operators in Python?"
      ],
      "metadata": {
        "id": "Ds69B5ZhQJSN"
      },
      "execution_count": null,
      "outputs": []
    },
    {
      "cell_type": "markdown",
      "source": [
        "==)) In Python, logical operators, also known as Boolean operators, are used to combine or modify conditions and return a Boolean value (True or False). The main logical operators are **and,or,*** and **not***."
      ],
      "metadata": {
        "id": "KDWdz7D7cTI9"
      }
    },
    {
      "cell_type": "code",
      "source": [
        "Q.9) What is type casting in Python?"
      ],
      "metadata": {
        "id": "1kp_t9jkQJPC"
      },
      "execution_count": null,
      "outputs": []
    },
    {
      "cell_type": "markdown",
      "source": [
        "==)) In Python, type casting (also known as type conversion) is the process of converting a variable's data type from one type to another, like converting an integer to a float or a string to an integer."
      ],
      "metadata": {
        "id": "9BDtU3PMc1TT"
      }
    },
    {
      "cell_type": "code",
      "source": [
        "Q.10) What is the difference between implicit and explicit type casting?"
      ],
      "metadata": {
        "id": "_DKuyIIAQJHB"
      },
      "execution_count": null,
      "outputs": []
    },
    {
      "cell_type": "markdown",
      "source": [
        "==)) In Python, implicit type casting (conversion) happens automatically by the interpreter, while explicit type casting (or type conversion) requires the programmer to use built-in functions like int(), float(), or str() to convert data types.\n",
        "\n",
        "* Implicit Type Conversion= The python interpreter automatically converts a data type to another when it's necessary, without any explicit instruction from the programmer.\n",
        "  \n",
        "  x = 5\n",
        "\n",
        "  y = 2.5\n",
        "\n",
        "  z = x + y # x (int) is implicitly converted to float to perform the addition\n",
        "\n",
        "  print(z) # Output: 7.5\n",
        "\n",
        "* Explicit Type Conversion(Type Casting)= The programmer uses built-in functions to convert a variable from one data type to another.\n",
        "\n",
        "  x = \"10\"\n",
        "\n",
        "  y = int(x) # Explicitly convert the string \"10\" to an integer\n",
        "  \n",
        "  print(y) # Output: 10"
      ],
      "metadata": {
        "id": "yrKCW1pveVRB"
      }
    },
    {
      "cell_type": "code",
      "source": [
        "Q.11) What is the purpose of conditional statements in Python?"
      ],
      "metadata": {
        "id": "vim8VrA7QJAT"
      },
      "execution_count": null,
      "outputs": []
    },
    {
      "cell_type": "markdown",
      "source": [
        "==)) Conditional statements in Python, like if, elif, else and nested if else allow programs to execute different blocks of code based on whether a condition is true or false, enabling dynamic and responsive behavior."
      ],
      "metadata": {
        "id": "ky_m3DUchB5z"
      }
    },
    {
      "cell_type": "code",
      "source": [
        "Q.12) How does the elif statement work?"
      ],
      "metadata": {
        "id": "u8ZgSJLUQI8p"
      },
      "execution_count": null,
      "outputs": []
    },
    {
      "cell_type": "markdown",
      "source": [
        "==)) The \"elif\" keyword in Python, stands for \"else if\". It can be used in conditional statements to check for multiple conditions. For example, if the first condition is false, it moves on to the next \"elif\" statement to check if that condition is true.\n",
        "\n",
        "if-else:\n",
        "\n",
        "weather = \"rainy\"\n",
        "\n",
        "if weather == \"rainy\":\n",
        "\n",
        "print(\"I will not play cricket\")\n",
        "\n",
        "else:\n",
        "\n",
        "print(\"I will watch TV\")\n",
        "\n",
        "Output#: 'I will watch TV'"
      ],
      "metadata": {
        "id": "hU6V1CCEhrW_"
      }
    },
    {
      "cell_type": "code",
      "source": [
        "Q.13) What is the difference between for and while loops?\n"
      ],
      "metadata": {
        "id": "FrnNGF90QI2V"
      },
      "execution_count": null,
      "outputs": []
    },
    {
      "cell_type": "markdown",
      "source": [
        "==)) In Python, both for and while loops are used to execute a block of code repeatedly, but they differ in their structure and typical use cases:\n",
        "\n",
        "  **While Loop*** repeatedly executed a block of code untill a condition is met.\n",
        "  \n",
        "  **For Loop*** iterate overa sequence of elements."
      ],
      "metadata": {
        "id": "_sy-mNy9inI7"
      }
    },
    {
      "cell_type": "code",
      "source": [
        "Q.14) Describe a scenario where a while loop is more suitable than a for loop."
      ],
      "metadata": {
        "id": "V2OG869FQ_No"
      },
      "execution_count": null,
      "outputs": []
    },
    {
      "cell_type": "markdown",
      "source": [
        "==)) for loop is usually better when we want a piece of code to run a certain number of times, and a while loop is better when the condition for the code to keep running is more general, such as having a boolean flag that is only set to true when a certain condition is met in the code block."
      ],
      "metadata": {
        "id": "u6i9POzQjgmg"
      }
    },
    {
      "cell_type": "code",
      "source": [
        "PRACTICAL QUESTIONS..."
      ],
      "metadata": {
        "id": "5xWckriLkcxI"
      },
      "execution_count": null,
      "outputs": []
    },
    {
      "cell_type": "code",
      "source": [
        "Q.1) Write a Python program to print \"Hello, World!\""
      ],
      "metadata": {
        "id": "o4Co_eNikpN2"
      },
      "execution_count": null,
      "outputs": []
    },
    {
      "cell_type": "code",
      "source": [
        "print (\"Hello, World!\")"
      ],
      "metadata": {
        "colab": {
          "base_uri": "https://localhost:8080/"
        },
        "id": "dNPe9kxopBRJ",
        "outputId": "2a0244fe-24ce-4ed3-a5b3-71f662d47f5d"
      },
      "execution_count": 1,
      "outputs": [
        {
          "output_type": "stream",
          "name": "stdout",
          "text": [
            "Hello, World!\n"
          ]
        }
      ]
    },
    {
      "cell_type": "code",
      "source": [
        "Q.2) Write a Python program that displays your name and age."
      ],
      "metadata": {
        "id": "BF23OO-RkpLT"
      },
      "execution_count": null,
      "outputs": []
    },
    {
      "cell_type": "code",
      "source": [
        "name= \"Sakshi\"\n",
        "age= 60\n",
        "print(\"Name:\", name)\n",
        "print(\"Age:\", age)"
      ],
      "metadata": {
        "colab": {
          "base_uri": "https://localhost:8080/"
        },
        "id": "jPT0iL8cpIFc",
        "outputId": "4f6d615a-02a3-4815-d534-82ec4ffee95e"
      },
      "execution_count": 51,
      "outputs": [
        {
          "output_type": "stream",
          "name": "stdout",
          "text": [
            "Name: Sakshi\n",
            "Age: 60\n"
          ]
        }
      ]
    },
    {
      "cell_type": "code",
      "source": [
        "Q.3) Write code to print all the pre-defined keywords in Python using the keyword library."
      ],
      "metadata": {
        "id": "s-V5UfEbkpIq"
      },
      "execution_count": null,
      "outputs": []
    },
    {
      "cell_type": "code",
      "source": [
        "help ('keywords')\n"
      ],
      "metadata": {
        "colab": {
          "base_uri": "https://localhost:8080/"
        },
        "id": "hxSqKcSap4tG",
        "outputId": "2ca425f5-716d-494f-eb03-73b6ed71fd32"
      },
      "execution_count": 7,
      "outputs": [
        {
          "output_type": "stream",
          "name": "stdout",
          "text": [
            "\n",
            "Here is a list of the Python keywords.  Enter any keyword to get more help.\n",
            "\n",
            "False               class               from                or\n",
            "None                continue            global              pass\n",
            "True                def                 if                  raise\n",
            "and                 del                 import              return\n",
            "as                  elif                in                  try\n",
            "assert              else                is                  while\n",
            "async               except              lambda              with\n",
            "await               finally             nonlocal            yield\n",
            "break               for                 not                 \n",
            "\n"
          ]
        }
      ]
    },
    {
      "cell_type": "code",
      "source": [
        "Q.4) Write a program that checks if a given word is a Python keyword."
      ],
      "metadata": {
        "id": "Q71NgDDOkpGa"
      },
      "execution_count": null,
      "outputs": []
    },
    {
      "cell_type": "code",
      "source": [
        "import keyword\n",
        "word = input(\"Enter a word: \")\n",
        "if keyword.iskeyword(word):\n",
        "    print(f\"{word} is a Python keyword.\")\n",
        "else:\n",
        "    print(f\"{word} is not a Python keyword.\")"
      ],
      "metadata": {
        "colab": {
          "base_uri": "https://localhost:8080/"
        },
        "id": "gB3gv-EHp4QU",
        "outputId": "cc9a1fe5-6d98-42bf-fc80-2442306f54f5"
      },
      "execution_count": 8,
      "outputs": [
        {
          "output_type": "stream",
          "name": "stdout",
          "text": [
            "Enter a word: for\n",
            "for is a Python keyword.\n"
          ]
        }
      ]
    },
    {
      "cell_type": "code",
      "source": [
        "Q.5) Create a list and tuple in Python, and demonstrate how attempting to change an element works differently for each."
      ],
      "metadata": {
        "id": "Rpww2PiEkpD4"
      },
      "execution_count": null,
      "outputs": []
    },
    {
      "cell_type": "code",
      "source": [
        "my_list = [10,20,30,40]   #creating and modifying in the list\n",
        "print(my_list)\n",
        "my_list[2] = 50\n",
        "print(my_list)\n",
        "\n",
        "\n"
      ],
      "metadata": {
        "colab": {
          "base_uri": "https://localhost:8080/"
        },
        "id": "9-sh9ZaNp-sV",
        "outputId": "ee5b7eda-452a-460c-88fa-e4a9dc96bb1e"
      },
      "execution_count": 49,
      "outputs": [
        {
          "output_type": "stream",
          "name": "stdout",
          "text": [
            "[10, 20, 30, 40]\n",
            "[10, 20, 50, 40]\n"
          ]
        }
      ]
    },
    {
      "cell_type": "code",
      "source": [
        "my_tuple = (10,20,30,40)   #creating and modifying in the tuple\n",
        "print(my_tuple)\n",
        "my_tuple[2] = 50\n",
        "print(my_tuple)"
      ],
      "metadata": {
        "colab": {
          "base_uri": "https://localhost:8080/",
          "height": 211
        },
        "id": "YlzNjLM5F42L",
        "outputId": "04f2e2d7-d4a9-4370-a4f7-a6fb2ecfa13a"
      },
      "execution_count": 50,
      "outputs": [
        {
          "output_type": "stream",
          "name": "stdout",
          "text": [
            "(10, 20, 30, 40)\n"
          ]
        },
        {
          "output_type": "error",
          "ename": "TypeError",
          "evalue": "'tuple' object does not support item assignment",
          "traceback": [
            "\u001b[0;31m---------------------------------------------------------------------------\u001b[0m",
            "\u001b[0;31mTypeError\u001b[0m                                 Traceback (most recent call last)",
            "\u001b[0;32m<ipython-input-50-8d80fcd51c5a>\u001b[0m in \u001b[0;36m<cell line: 0>\u001b[0;34m()\u001b[0m\n\u001b[1;32m      1\u001b[0m \u001b[0mmy_tuple\u001b[0m \u001b[0;34m=\u001b[0m \u001b[0;34m(\u001b[0m\u001b[0;36m10\u001b[0m\u001b[0;34m,\u001b[0m\u001b[0;36m20\u001b[0m\u001b[0;34m,\u001b[0m\u001b[0;36m30\u001b[0m\u001b[0;34m,\u001b[0m\u001b[0;36m40\u001b[0m\u001b[0;34m)\u001b[0m   \u001b[0;31m#creating and modifying in the tuple\u001b[0m\u001b[0;34m\u001b[0m\u001b[0;34m\u001b[0m\u001b[0m\n\u001b[1;32m      2\u001b[0m \u001b[0mprint\u001b[0m\u001b[0;34m(\u001b[0m\u001b[0mmy_tuple\u001b[0m\u001b[0;34m)\u001b[0m\u001b[0;34m\u001b[0m\u001b[0;34m\u001b[0m\u001b[0m\n\u001b[0;32m----> 3\u001b[0;31m \u001b[0mmy_tuple\u001b[0m\u001b[0;34m[\u001b[0m\u001b[0;36m2\u001b[0m\u001b[0;34m]\u001b[0m \u001b[0;34m=\u001b[0m \u001b[0;36m50\u001b[0m\u001b[0;34m\u001b[0m\u001b[0;34m\u001b[0m\u001b[0m\n\u001b[0m\u001b[1;32m      4\u001b[0m \u001b[0mprint\u001b[0m\u001b[0;34m(\u001b[0m\u001b[0mmy_tuple\u001b[0m\u001b[0;34m)\u001b[0m\u001b[0;34m\u001b[0m\u001b[0;34m\u001b[0m\u001b[0m\n",
            "\u001b[0;31mTypeError\u001b[0m: 'tuple' object does not support item assignment"
          ]
        }
      ]
    },
    {
      "cell_type": "code",
      "source": [
        "Q.6) Write a function to demonstrate the behavior of mutable and immutable arguments."
      ],
      "metadata": {
        "id": "mEGBgoV7kpBR"
      },
      "execution_count": null,
      "outputs": []
    },
    {
      "cell_type": "code",
      "source": [
        "def modify_immutable(value):\n",
        "    print(f\"Original value in function: {value}\")\n",
        "    value += 5\n",
        "    print(f\"Modified value in function: {value}\")\n",
        "\n",
        "number = 10\n",
        "modify_immutable(number)\n",
        "print(f\"Value after function call: {number}\")"
      ],
      "metadata": {
        "colab": {
          "base_uri": "https://localhost:8080/"
        },
        "id": "Fe7dGwoJtgVR",
        "outputId": "f144fd3f-8113-40b6-ceeb-0b96a04a5a46"
      },
      "execution_count": 15,
      "outputs": [
        {
          "output_type": "stream",
          "name": "stdout",
          "text": [
            "Original value in function: 10\n",
            "Modified value in function: 15\n",
            "Value after function call: 10\n"
          ]
        }
      ]
    },
    {
      "cell_type": "code",
      "source": [
        "Q.7) Write a program that performs basic arithmetic operations on two user-input numbers."
      ],
      "metadata": {
        "id": "GJdeuY5Vko-j"
      },
      "execution_count": null,
      "outputs": []
    },
    {
      "cell_type": "code",
      "source": [
        "def main():\n",
        "    print(\"Welcome to Basic Operations Calculator!\")\n",
        "    num1 = float(input(\"Enter the first number: \"))\n",
        "    num2 = float(input(\"Enter the second number: \"))\n",
        "\n",
        "    addition = num1 + num2\n",
        "    subtraction = num1 - num2\n",
        "    multiplication = num1 * num2\n",
        "    if num2 != 0:\n",
        "        division = num1 / num2\n",
        "    else:\n",
        "        division = \"Undefined (division by zero)\"\n",
        "\n",
        "    print(f\"Addition: {addition}\")\n",
        "    print(f\"Subtraction: {subtraction}\")\n",
        "    print(f\"Multiplication: {multiplication}\")\n",
        "    print(f\"Division: {division}\")\n",
        "    print(\"Thank you for using the calculator!\")\n",
        "\n",
        "if __name__ == \"__main__\":\n",
        "    main()"
      ],
      "metadata": {
        "colab": {
          "base_uri": "https://localhost:8080/"
        },
        "id": "_VRqDUjwJkYL",
        "outputId": "0237e400-1372-4c07-80a2-6c27f090e19b"
      },
      "execution_count": 58,
      "outputs": [
        {
          "output_type": "stream",
          "name": "stdout",
          "text": [
            "Welcome to Basic Operations Calculator!\n",
            "Enter the first number: 10\n",
            "Enter the second number: 20\n",
            "Addition: 30.0\n",
            "Subtraction: -10.0\n",
            "Multiplication: 200.0\n",
            "Division: 0.5\n",
            "Thank you for using the calculator!\n"
          ]
        }
      ]
    },
    {
      "cell_type": "code",
      "source": [
        "Q.8) Write a program to demonstrate the use of logical operators."
      ],
      "metadata": {
        "id": "8blY9swfko7x"
      },
      "execution_count": null,
      "outputs": []
    },
    {
      "cell_type": "code",
      "source": [
        "x = 10\n",
        "y = 20\n",
        "z = 5\n",
        "\n",
        "#using 'and' operator\n",
        "if x > 5 and y > 15:\n",
        "   print(\"Both conditions are true\")\n",
        "\n",
        "#using 'or' operator\n",
        "if x > 15 or y > 15:\n",
        "   print(\"At least one condition is true\")\n",
        "\n",
        "#using 'not' operator\n",
        "if not z > 10:\n",
        "   print(\"z is not greater than 10\")\n",
        "\n",
        "#Combining logical operators\n",
        "if (x > 5 and y > 15) or z < 10:\n",
        "   print(\"Complex condition evaluated to true\")"
      ],
      "metadata": {
        "colab": {
          "base_uri": "https://localhost:8080/"
        },
        "id": "DhI7hcv0uaHI",
        "outputId": "8d52ecf3-c23b-48c6-8021-a3ec9d0ee632"
      },
      "execution_count": 16,
      "outputs": [
        {
          "output_type": "stream",
          "name": "stdout",
          "text": [
            "Both conditions are true\n",
            "At least one condition is true\n",
            "z is not greater than 10\n",
            "Complex condition evaluated to true\n"
          ]
        }
      ]
    },
    {
      "cell_type": "code",
      "source": [
        "Q.9) Write a Python program to convert user input from string to integer, float, and boolean types."
      ],
      "metadata": {
        "id": "yL4WgMgfko44"
      },
      "execution_count": null,
      "outputs": []
    },
    {
      "cell_type": "code",
      "source": [
        "def convert_input(user_input):\n",
        "  #convert to integer\n",
        "    try:\n",
        "        integer_value = int(user_input)\n",
        "        print(f\"Integer conversion successful: {integer_value}\")\n",
        "    except ValueError:\n",
        "        print(\"Integer conversion failed\")\n",
        "\n",
        "   #convert to float\n",
        "    try:\n",
        "        float_value = float(user_input)\n",
        "        print(f\"Float conversion successful: {float_value}\")\n",
        "    except ValueError:\n",
        "        print(\"Float conversion failed\")\n",
        "\n",
        "   #convert to boolean\n",
        "    if user_input.lower() in ['true','1','t','y','yes']:\n",
        "       boolean_value = True\n",
        "       print(f\"Boolean conversion successful: {boolean_value}\")\n",
        "    elif user_input.lower() in ['false','0','f','n','no']:\n",
        "       boolean_value = False\n",
        "       print(f\"Boolean conversion successful: {boolean_value}\")\n",
        "    else:\n",
        "       print(\"Boolean conversion failed.\")\n",
        "\n",
        "# Change '_name_' to '__name__'\n",
        "if __name__ == \"__main__\":\n",
        "   user_input = input(\"Enter a value: \")\n",
        "   convert_input(user_input)"
      ],
      "metadata": {
        "colab": {
          "base_uri": "https://localhost:8080/"
        },
        "id": "m6Nci2mjzIbn",
        "outputId": "383e575d-6e68-4dd7-aa2d-0286623418ce"
      },
      "execution_count": 18,
      "outputs": [
        {
          "output_type": "stream",
          "name": "stdout",
          "text": [
            "Enter a value: 25\n",
            "Integer conversion successful: 25\n",
            "Float conversion successful: 25.0\n",
            "Boolean conversion failed.\n"
          ]
        }
      ]
    },
    {
      "cell_type": "code",
      "source": [
        "Q.10) Write code to demonstrate type casting with list elements."
      ],
      "metadata": {
        "id": "Ji9DFbuhko2A"
      },
      "execution_count": null,
      "outputs": []
    },
    {
      "cell_type": "code",
      "source": [
        "string_numbers = [\"1\", \"2\", \"3\", \"4\", \"5\"]\n",
        "integer_numbers = [int(num) for num in string_numbers]\n",
        "print(string_numbers)\n",
        "print(integer_numbers)\n"
      ],
      "metadata": {
        "colab": {
          "base_uri": "https://localhost:8080/"
        },
        "id": "L_YTzvlTubUu",
        "outputId": "ed6e0562-efc8-4f7d-89f7-3cd7c0346620"
      },
      "execution_count": 19,
      "outputs": [
        {
          "output_type": "stream",
          "name": "stdout",
          "text": [
            "['1', '2', '3', '4', '5']\n",
            "[1, 2, 3, 4, 5]\n"
          ]
        }
      ]
    },
    {
      "cell_type": "code",
      "source": [
        "Q.11) Write a program that checks if a number is positive, negative, or zero."
      ],
      "metadata": {
        "id": "SsOfvWVvkoym"
      },
      "execution_count": null,
      "outputs": []
    },
    {
      "cell_type": "code",
      "source": [
        "number = float(input(\"Enter a number: \"))\n",
        "if number > 0:\n",
        "    print(\"The number is positive.\")\n",
        "elif number < 0:\n",
        "    print(\"The number is negative.\")\n",
        "else:\n",
        "    print(\"The number is zero.\")"
      ],
      "metadata": {
        "colab": {
          "base_uri": "https://localhost:8080/"
        },
        "id": "YefIBZZAIoN4",
        "outputId": "ae6ffee6-0d04-47b9-fddf-60f69619848d"
      },
      "execution_count": 53,
      "outputs": [
        {
          "output_type": "stream",
          "name": "stdout",
          "text": [
            "Enter a number: 10\n",
            "The number is positive.\n"
          ]
        }
      ]
    },
    {
      "cell_type": "code",
      "source": [
        "Q.12) Write a for loop to print numbers 1 to 10."
      ],
      "metadata": {
        "id": "qKqIGcb-koqp"
      },
      "execution_count": null,
      "outputs": []
    },
    {
      "cell_type": "code",
      "source": [
        "for i in range(1,11):\n",
        "    print(i)"
      ],
      "metadata": {
        "colab": {
          "base_uri": "https://localhost:8080/"
        },
        "id": "AC-irTlIz_dz",
        "outputId": "8fe4facd-480f-40c2-a008-80d19da3657c"
      },
      "execution_count": 24,
      "outputs": [
        {
          "output_type": "stream",
          "name": "stdout",
          "text": [
            "1\n",
            "2\n",
            "3\n",
            "4\n",
            "5\n",
            "6\n",
            "7\n",
            "8\n",
            "9\n",
            "10\n"
          ]
        }
      ]
    },
    {
      "cell_type": "code",
      "source": [
        "Q.13) Write a Python program to find the sum of all even numbers between 1 to 50."
      ],
      "metadata": {
        "id": "prCipw5Mn5jn"
      },
      "execution_count": null,
      "outputs": []
    },
    {
      "cell_type": "code",
      "source": [
        "even_sum = 0\n",
        "for number in range(2, 51, 2):\n",
        "    even_sum += number\n",
        "print(\"Sum of even numbers between 1 and 50:\", even_sum)"
      ],
      "metadata": {
        "colab": {
          "base_uri": "https://localhost:8080/"
        },
        "id": "T_stCoH30LZh",
        "outputId": "6c6e86d9-0d80-4436-ae24-3fdbc42d9353"
      },
      "execution_count": 26,
      "outputs": [
        {
          "output_type": "stream",
          "name": "stdout",
          "text": [
            "Sum of even numbers between 1 and 50: 650\n"
          ]
        }
      ]
    },
    {
      "cell_type": "code",
      "source": [
        "Q.14) Write a program to reverse a string using a while loop."
      ],
      "metadata": {
        "id": "G9GBz03bn5hQ"
      },
      "execution_count": null,
      "outputs": []
    },
    {
      "cell_type": "code",
      "source": [
        "if __name__ == \"__main__\":\n",
        "    input_string = input(\"Enter a string: \")\n",
        "    result = \"\"\n",
        "    length = len(input_string)\n",
        "    while length > 0:\n",
        "        result += input_string[length - 1]\n",
        "        length -= 1\n",
        "    print(\"Reversed string:\", result)"
      ],
      "metadata": {
        "colab": {
          "base_uri": "https://localhost:8080/"
        },
        "id": "gVxoZQ9s0T2E",
        "outputId": "b7d9ff76-9e78-43a0-9421-97f25bda0231"
      },
      "execution_count": 27,
      "outputs": [
        {
          "output_type": "stream",
          "name": "stdout",
          "text": [
            "Enter a string: Hello World\n",
            "Reversed string: dlroW olleH\n"
          ]
        }
      ]
    },
    {
      "cell_type": "code",
      "source": [
        "Q.15) Write a Python program to calculate the factorial of a number provided by the user using a while loop."
      ],
      "metadata": {
        "id": "dfzCoKJnn5eS"
      },
      "execution_count": null,
      "outputs": []
    },
    {
      "cell_type": "code",
      "source": [
        "number = int(input(\"Enter a number: \"))\n",
        "factorial = 1\n",
        "current = 1\n",
        "while current <= number:\n",
        "    factorial *= current\n",
        "    current += 1\n",
        "print(f\"The factorial of {number} is {factorial}\")"
      ],
      "metadata": {
        "colab": {
          "base_uri": "https://localhost:8080/"
        },
        "id": "1Xug5LNv8nyL",
        "outputId": "72243ef1-b00d-4c52-d0d2-f8e13ff221c4"
      },
      "execution_count": 29,
      "outputs": [
        {
          "output_type": "stream",
          "name": "stdout",
          "text": [
            "Enter a number: 10\n",
            "The factorial of 10 is 3628800\n"
          ]
        }
      ]
    }
  ]
}